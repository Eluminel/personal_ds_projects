{
  "nbformat": 4,
  "nbformat_minor": 0,
  "metadata": {
    "colab": {
      "provenance": []
    },
    "kernelspec": {
      "name": "python3",
      "display_name": "Python 3"
    },
    "language_info": {
      "name": "python"
    }
  },
  "cells": [
    {
      "cell_type": "markdown",
      "source": [
        "# Task1:  \n",
        "Develop a function to test the normality of a data sample distribution using the template provided in the homework materials.You may use one of the well-known statistical tests."
      ],
      "metadata": {
        "id": "BXHp3gkGLWma"
      }
    },
    {
      "cell_type": "code",
      "execution_count": null,
      "metadata": {
        "colab": {
          "base_uri": "https://localhost:8080/"
        },
        "id": "q9MS5LHBLQkK",
        "outputId": "b3761c47-fdd1-4382-9c3c-09b5d27b135b"
      },
      "outputs": [
        {
          "output_type": "stream",
          "name": "stdout",
          "text": [
            "Requirement already satisfied: scipy in /usr/local/lib/python3.10/dist-packages (1.13.1)\n",
            "Requirement already satisfied: numpy<2.3,>=1.22.4 in /usr/local/lib/python3.10/dist-packages (from scipy) (1.26.4)\n"
          ]
        }
      ],
      "source": [
        "!pip install scipy\n",
        "from scipy.stats import normaltest"
      ]
    },
    {
      "cell_type": "code",
      "source": [
        "def check_normality(data):\n",
        "  # Conducting the D'Agostino-Pearson test\n",
        "  stat, p_value = normaltest(data)\n",
        "  alpha = 0.05\n",
        "\n",
        "  # Checking the condition of statistical significance\n",
        "  if p_value < alpha:\n",
        "    print(\"Rejecting the null hypothesis >> The data are not normally distributed\")\n",
        "  else:\n",
        "    print(\"Confirming the null hypothesis >> The data are normally distributed\")"
      ],
      "metadata": {
        "id": "yviQIkyqLmXS"
      },
      "execution_count": null,
      "outputs": []
    },
    {
      "cell_type": "markdown",
      "source": [
        "#Task2:\n",
        "\n",
        "Two samples of heights for men and women are given.\n",
        "Prove, using the Student's t-test, that the difference between the samples is insignificant if the significance level is α = 0.001. Show the differences visually.\n",
        "\n",
        "Is the result practically useful? Why or why not?"
      ],
      "metadata": {
        "id": "gN6RcMiQMmyu"
      }
    },
    {
      "cell_type": "code",
      "source": [
        "import numpy as np\n",
        "from scipy import stats\n",
        "import matplotlib.pyplot as plt"
      ],
      "metadata": {
        "id": "ozOwWHGDNhui"
      },
      "execution_count": null,
      "outputs": []
    },
    {
      "cell_type": "code",
      "source": [
        "np.random.seed(42)\n",
        "\n",
        "men = stats.norm.rvs(loc=171, scale=10, size=150000)\n",
        "women = stats.norm.rvs(loc=170, scale=10, size=150000)"
      ],
      "metadata": {
        "id": "fB_HQI9HN28E"
      },
      "execution_count": null,
      "outputs": []
    },
    {
      "cell_type": "code",
      "source": [
        "f_stat = np.var(men, ddof=1) / np.var(women, ddof=1)\n",
        "df1 = len(men) - 1\n",
        "df2 = len(women) - 1\n",
        "p_value_f = stats.f.cdf(f_stat, df1, df2) if f_stat < 1 else 1 - stats.f.cdf(1 / f_stat, df2, df1)\n",
        "f_stat, p_value_f"
      ],
      "metadata": {
        "colab": {
          "base_uri": "https://localhost:8080/"
        },
        "id": "jXzvvONXA718",
        "outputId": "87bff93e-cbef-4db2-8267-61ffaa3433dc"
      },
      "execution_count": null,
      "outputs": [
        {
          "output_type": "execute_result",
          "data": {
            "text/plain": [
              "(1.0022561885767192, 0.6687320536738423)"
            ]
          },
          "metadata": {},
          "execution_count": 8
        }
      ]
    },
    {
      "cell_type": "markdown",
      "source": [
        "The value 1.002 indicates that the variances of the male and female samples are nearly equal, as the ratio is close to 1.The p-value of 0.669 is significantly greater than the standard significance level 0.05. This means there is no basis to reject the null hypothesis of equal variances."
      ],
      "metadata": {
        "id": "LDSgXWVzBRRC"
      }
    },
    {
      "cell_type": "code",
      "source": [
        "t_stas, p_value = stats. ttest_ind(men, women, equal_var=False)\n",
        "t_stas, p_value"
      ],
      "metadata": {
        "colab": {
          "base_uri": "https://localhost:8080/"
        },
        "id": "K2M7CzOvOAGg",
        "outputId": "3c1e1c44-bb76-4ca0-f97f-fdb5450faa80"
      },
      "execution_count": null,
      "outputs": [
        {
          "output_type": "execute_result",
          "data": {
            "text/plain": [
              "(28.313635693327363, 4.013051963718138e-176)"
            ]
          },
          "metadata": {},
          "execution_count": 4
        }
      ]
    },
    {
      "cell_type": "code",
      "source": [
        "alpha = 0.001\n",
        "\n",
        "if p_value < alpha:\n",
        "  print(\"Rejecting the null hypothesis >> The heights of men and women differ significantly.\")\n",
        "else:\n",
        "  print(\"Confirming the null hypothesis >> The difference in height between men and women is not significant.\")"
      ],
      "metadata": {
        "colab": {
          "base_uri": "https://localhost:8080/"
        },
        "id": "719rLG-_PwMZ",
        "outputId": "337a6f91-3226-45ea-f2a3-d99737915263"
      },
      "execution_count": null,
      "outputs": [
        {
          "output_type": "stream",
          "name": "stdout",
          "text": [
            "Rejecting the null hypothesis >> The heights of men and women differ significantly.\n"
          ]
        }
      ]
    },
    {
      "cell_type": "code",
      "source": [
        "plt.figure(figsize=(10, 6))\n",
        "plt.hist(men, bins=100, alpha=0.4, label='Men', color='blue', density=True)\n",
        "plt.hist(women, bins=100, alpha=0.4, label='Women', color='red', density=True)\n",
        "plt.xlabel(\"Height(cm)\")\n",
        "plt.ylabel(\"Density\")\n",
        "plt.legend()\n",
        "plt.title(\"Distribution of height for men and women\")\n",
        "plt.show()"
      ],
      "metadata": {
        "colab": {
          "base_uri": "https://localhost:8080/",
          "height": 564
        },
        "id": "LYxLhRxJQzce",
        "outputId": "b237376e-1133-4919-d2e5-103e552d3295"
      },
      "execution_count": null,
      "outputs": [
        {
          "output_type": "display_data",
          "data": {
            "text/plain": [
              "<Figure size 1000x600 with 1 Axes>"
            ],
            "image/png": "[encoded data removed]"
          },
          "metadata": {}
        }
      ]
    },
    {
      "cell_type": "markdown",
      "source": [
        "Although we reject the null hypothesis, the graph shows that the differences in height are small and have little practical significance."
      ],
      "metadata": {
        "id": "rUVcqN6mTYJv"
      }
    },
    {
      "cell_type": "markdown",
      "source": [
        "#Task3:\n",
        "A human resources specialist working in a technology company is interested in the overtime hours of different teams. To determine if there is a difference between the overtime work of the software development team and the testing group, she randomly selected 17 employees from each of the two teams and recorded their average weekly overtime in hours. The data are provided below.\n",
        "\n",
        "Based on this information, conduct a hypothesis test to check if there is a difference in the overtime between the two teams, using a significance level of 0.05. Before conducting the hypothesis test, check the assumption of normality."
      ],
      "metadata": {
        "id": "miteWTpyTa5O"
      }
    },
    {
      "cell_type": "code",
      "source": [
        "test_team = [6.2, 7.1, 1.5, 2,3 , 2, 1.5, 6.1, 2.4, 2.3, 12.4, 1.8, 5.3, 3.1, 9.4, 2.3, 4.1]\n",
        "developer_team = [2.3, 2.1, 1.4, 2.0, 8.7, 2.2, 3.1, 4.2, 3.6, 2.5, 3.1, 6.2, 12.1, 3.9, 2.2, 1.2 ,3.4]"
      ],
      "metadata": {
        "id": "KGP_aYWPTaag"
      },
      "execution_count": null,
      "outputs": []
    },
    {
      "cell_type": "markdown",
      "source": [
        "The null hypothesis (H0): The average amount of overtime is the same across the teams.\n",
        "\n",
        "The alternative hypothesis (H1): The average amount of overtime differs between the teams."
      ],
      "metadata": {
        "id": "qMomlx4AiMxx"
      }
    },
    {
      "cell_type": "markdown",
      "source": [
        "Normality test using the Shapiro-Wilk test:"
      ],
      "metadata": {
        "id": "BEYW9MEuVMhT"
      }
    },
    {
      "cell_type": "code",
      "source": [
        "alpha = 0.05\n",
        "# for test_team\n",
        "stat_test, p_value_test = stats.shapiro(test_team)\n",
        "p_value_test"
      ],
      "metadata": {
        "colab": {
          "base_uri": "https://localhost:8080/"
        },
        "id": "neN6VwHMUC9T",
        "outputId": "8f3d2843-dfda-44eb-ece7-90389985934f"
      },
      "execution_count": null,
      "outputs": [
        {
          "output_type": "execute_result",
          "data": {
            "text/plain": [
              "0.004620073473463519"
            ]
          },
          "metadata": {},
          "execution_count": 41
        }
      ]
    },
    {
      "cell_type": "code",
      "source": [
        "if p_value_test > alpha:\n",
        "  print(\"Accept the null hypothesis: the data are normally distributed for the testing team.\")\n",
        "else:\n",
        "  print(\"We reject the null hypothesis: the data are not normally distributed for the testing team.\")"
      ],
      "metadata": {
        "colab": {
          "base_uri": "https://localhost:8080/"
        },
        "id": "VboIToqPV6tO",
        "outputId": "8cf878c2-0cdd-44ce-9cac-705069ef424b"
      },
      "execution_count": null,
      "outputs": [
        {
          "output_type": "stream",
          "name": "stdout",
          "text": [
            "We reject the null hypothesis: the data are not normally distributed for the testing team.\n"
          ]
        }
      ]
    },
    {
      "cell_type": "code",
      "source": [
        "# for developer_team\n",
        "stat_dev, p_value_dev = stats.shapiro(developer_team)\n",
        "p_value_dev"
      ],
      "metadata": {
        "colab": {
          "base_uri": "https://localhost:8080/"
        },
        "id": "jtI4pFaAVUtQ",
        "outputId": "5cc1c8f2-2712-4e0c-8ffe-7a5071a7d717"
      },
      "execution_count": null,
      "outputs": [
        {
          "output_type": "execute_result",
          "data": {
            "text/plain": [
              "0.000489113275069916"
            ]
          },
          "metadata": {},
          "execution_count": 45
        }
      ]
    },
    {
      "cell_type": "code",
      "source": [
        "if p_value_dev > alpha:\n",
        "  print(\"Accept the null hypothesis: the data are normally distributed for the development team.\")\n",
        "else:\n",
        "  print(\"We reject the null hypothesis: the data are not normally distributed for the development team.\")\n"
      ],
      "metadata": {
        "colab": {
          "base_uri": "https://localhost:8080/"
        },
        "id": "V2w0Rpz0WN6p",
        "outputId": "49b0bd9c-c955-4753-98c6-9e91d47b8a6c"
      },
      "execution_count": null,
      "outputs": [
        {
          "output_type": "stream",
          "name": "stdout",
          "text": [
            "We reject the null hypothesis: the data are not normally distributed for the development team.\n"
          ]
        }
      ]
    },
    {
      "cell_type": "markdown",
      "source": [
        "**We use the Mann-Whitney test since the datas are not normally distributed.**"
      ],
      "metadata": {
        "id": "SZRHOkIMXkq_"
      }
    },
    {
      "cell_type": "code",
      "source": [
        "from scipy.stats import mannwhitneyu\n",
        "\n",
        "stat, p_value = mannwhitneyu(test_team, developer_team)\n",
        "stat, p_value"
      ],
      "metadata": {
        "colab": {
          "base_uri": "https://localhost:8080/"
        },
        "id": "JNNDdgpvW1p1",
        "outputId": "6b1aa48a-1496-4cb3-aa62-785889d1e5d9"
      },
      "execution_count": null,
      "outputs": [
        {
          "output_type": "execute_result",
          "data": {
            "text/plain": [
              "(151.5, 0.8226484074918565)"
            ]
          },
          "metadata": {},
          "execution_count": 47
        }
      ]
    },
    {
      "cell_type": "code",
      "source": [
        "if p_value < alpha:\n",
        "  print(\"We reject the null hypothesis: there is a significant difference between the teams.\")\n",
        "else:\n",
        "  print(\"We accept the null hypothesis: there is no significant difference between the teams.\")"
      ],
      "metadata": {
        "colab": {
          "base_uri": "https://localhost:8080/"
        },
        "id": "aRv7Af9OX6Kx",
        "outputId": "22a6c788-6559-418d-a825-0408bf26a3ce"
      },
      "execution_count": null,
      "outputs": [
        {
          "output_type": "stream",
          "name": "stdout",
          "text": [
            "We accept the null hypothesis: there is no significant difference between the teams.\n"
          ]
        }
      ]
    },
    {
      "cell_type": "code",
      "source": [
        "import seaborn as sns\n",
        "\n",
        "plt.figure(figsize=(12, 6))\n",
        "sns.kdeplot(test_team, fill=True, label='Test_team', color='blue', alpha=0.5)\n",
        "sns.kdeplot(developer_team, fill=True, label='Developer_team', color='red', alpha=0.5)\n",
        "plt.xlabel(\"Overtime hours\")\n",
        "plt.ylabel(\"Density\")\n",
        "plt.legend()\n",
        "plt.title(\"Overlaid density plots of overtime hours\")\n",
        "\n",
        "plt.tight_layout()\n",
        "plt.show()"
      ],
      "metadata": {
        "colab": {
          "base_uri": "https://localhost:8080/",
          "height": 477
        },
        "id": "4BoR0Gu4Znl3",
        "outputId": "fca1322c-70ba-4a4d-cca5-e38fdf99956e"
      },
      "execution_count": null,
      "outputs": [
        {
          "output_type": "display_data",
          "data": {
            "text/plain": [
              "<Figure size 1200x600 with 1 Axes>"
            ],
            "image/png": "[encoded data removed]"
          },
          "metadata": {}
        }
      ]
    },
    {
      "cell_type": "markdown",
      "source": [
        "# Task4:\n",
        "A pediatrician wants to observe the impact of formula consumption on the average monthly weight gain of newborns. For this reason, she collected data from three different groups. The first group consists of exclusively breastfed infants, the second group includes infants fed only with formula, and the last group consists of infants who are both formula-fed and breastfed. The data are provided below.\n",
        "\n",
        "Based on this information, conduct a hypothesis test to determine if there is a difference in the average monthly weight gain among these three groups, using a significance level of 0.05. If a significant difference is found, conduct further analysis to identify the cause of the difference."
      ],
      "metadata": {
        "id": "isWIJZ7naruQ"
      }
    },
    {
      "cell_type": "code",
      "source": [
        "only_breast = [794.1, 716.9, 993. , 724.7, 760.9, 908.2, 659.3 , 690.8, 768.7, 717.3 , 630.7, 729.5, 714.1, 810.3, 583.5, 679.9, 865.1];\n",
        "only_formula = [898.8, 881.2, 940.2, 966.2, 957.5, 1061.7, 1046.2, 980.4, 895.6, 919.7, 1074.1, 952.5, 796.3, 859.6, 871.1 , 1047.5, 919.1 , 1160.5, 996.9];\n",
        "both = [976.4, 656.4, 861.2, 706.8, 718.5, 717.1, 759.8, 894.6, 867.6, 805.6, 765.4, 800.3, 789.9, 875.3, 740. , 799.4, 790.3, 795.2 , 823.6, 818.7, 926.8, 791.7, 948.3];"
      ],
      "metadata": {
        "id": "VU-MD-sdazJO"
      },
      "execution_count": null,
      "outputs": []
    },
    {
      "cell_type": "markdown",
      "source": [
        "The null hypothesis (H0): There is no significant difference in the average monthly weight gain of newborns across the three groups.\n",
        "The alternative hypothesis (H1): There is a significant difference between at least one pair of groups."
      ],
      "metadata": {
        "id": "uuLfqf7-ct_M"
      }
    },
    {
      "cell_type": "code",
      "source": [
        "f_statistic, p_value = stats.f_oneway(only_breast, only_formula, both)\n",
        "f_statistic, p_value"
      ],
      "metadata": {
        "colab": {
          "base_uri": "https://localhost:8080/"
        },
        "id": "mob0crDAa4RH",
        "outputId": "95ddadd0-61a9-4238-99f3-ac70325ce82a"
      },
      "execution_count": null,
      "outputs": [
        {
          "output_type": "execute_result",
          "data": {
            "text/plain": [
              "(26.701251857537958, 7.18623550288582e-09)"
            ]
          },
          "metadata": {},
          "execution_count": 12
        }
      ]
    },
    {
      "cell_type": "code",
      "source": [
        "alpha = 0.05\n",
        "if p_value < alpha:\n",
        "  print(\"We reject the null hypothesis: there is a significant difference between the groups.\")\n",
        "else:\n",
        "  print(\"We accept the null hypothesis: there is no significant difference between the groups.\")\n"
      ],
      "metadata": {
        "colab": {
          "base_uri": "https://localhost:8080/"
        },
        "id": "qHTckjLLdNso",
        "outputId": "33de3efd-a26d-4167-9a40-7c50d118dc90"
      },
      "execution_count": null,
      "outputs": [
        {
          "output_type": "stream",
          "name": "stdout",
          "text": [
            "We reject the null hypothesis: there is a significant difference between the groups.\n"
          ]
        }
      ]
    },
    {
      "cell_type": "code",
      "source": [
        "from statsmodels.stats.multicomp import pairwise_tukeyhsd\n",
        "\n",
        "data = only_breast + only_formula + both\n",
        "groups = (['only_breast'] * len(only_breast) +\n",
        "          ['only_formula'] * len(only_formula) +\n",
        "          ['both'] * len(both))\n",
        "\n",
        "tukey = pairwise_tukeyhsd(endog=data, groups=groups, alpha=0.05)\n",
        "tukey"
      ],
      "metadata": {
        "colab": {
          "base_uri": "https://localhost:8080/"
        },
        "id": "0vmgqgSuHit_",
        "outputId": "06710dc3-99b0-4060-8d27-24e2e4eb5028"
      },
      "execution_count": null,
      "outputs": [
        {
          "output_type": "execute_result",
          "data": {
            "text/plain": [
              "<statsmodels.sandbox.stats.multicomp.TukeyHSDResults at 0x7c27dfe047c0>"
            ]
          },
          "metadata": {},
          "execution_count": 18
        }
      ]
    },
    {
      "cell_type": "code",
      "source": [
        "tukey_results = tukey.summary()\n",
        "tukey_results_df = pd.DataFrame(data=tukey.summary().data[1:], columns=tukey.summary().data[0])\n",
        "tukey_results_df"
      ],
      "metadata": {
        "colab": {
          "base_uri": "https://localhost:8080/",
          "height": 143
        },
        "id": "dXVs2YTYJKEz",
        "outputId": "f6bef4a2-fe04-410b-a1e1-fdf38382a742"
      },
      "execution_count": null,
      "outputs": [
        {
          "output_type": "execute_result",
          "data": {
            "text/plain": [
              "        group1        group2  meandiff   p-adj     lower     upper  reject\n",
              "0         both   only_breast  -60.1286  0.0995 -129.1485    8.8912   False\n",
              "1         both  only_formula  149.2636  0.0000   82.3651  216.1621    True\n",
              "2  only_breast  only_formula  209.3923  0.0000  137.3508  281.4337    True"
            ],
            "text/html": [
              "\n",
              "  <div id=\"df-7dc56d0a-621e-4273-94a5-9c18d0b3a335\" class=\"colab-df-container\">\n",
              "    <div>\n",
              "<style scoped>\n",
              "    .dataframe tbody tr th:only-of-type {\n",
              "        vertical-align: middle;\n",
              "    }\n",
              "\n",
              "    .dataframe tbody tr th {\n",
              "        vertical-align: top;\n",
              "    }\n",
              "\n",
              "    .dataframe thead th {\n",
              "        text-align: right;\n",
              "    }\n",
              "</style>\n",
              "<table border=\"1\" class=\"dataframe\">\n",
              "  <thead>\n",
              "    <tr style=\"text-align: right;\">\n",
              "      <th></th>\n",
              "      <th>group1</th>\n",
              "      <th>group2</th>\n",
              "      <th>meandiff</th>\n",
              "      <th>p-adj</th>\n",
              "      <th>lower</th>\n",
              "      <th>upper</th>\n",
              "      <th>reject</th>\n",
              "    </tr>\n",
              "  </thead>\n",
              "  <tbody>\n",
              "    <tr>\n",
              "      <th>0</th>\n",
              "      <td>both</td>\n",
              "      <td>only_breast</td>\n",
              "      <td>-60.1286</td>\n",
              "      <td>0.0995</td>\n",
              "      <td>-129.1485</td>\n",
              "      <td>8.8912</td>\n",
              "      <td>False</td>\n",
              "    </tr>\n",
              "    <tr>\n",
              "      <th>1</th>\n",
              "      <td>both</td>\n",
              "      <td>only_formula</td>\n",
              "      <td>149.2636</td>\n",
              "      <td>0.0000</td>\n",
              "      <td>82.3651</td>\n",
              "      <td>216.1621</td>\n",
              "      <td>True</td>\n",
              "    </tr>\n",
              "    <tr>\n",
              "      <th>2</th>\n",
              "      <td>only_breast</td>\n",
              "      <td>only_formula</td>\n",
              "      <td>209.3923</td>\n",
              "      <td>0.0000</td>\n",
              "      <td>137.3508</td>\n",
              "      <td>281.4337</td>\n",
              "      <td>True</td>\n",
              "    </tr>\n",
              "  </tbody>\n",
              "</table>\n",
              "</div>\n",
              "    <div class=\"colab-df-buttons\">\n",
              "\n",
              "  <div class=\"colab-df-container\">\n",
              "    <button class=\"colab-df-convert\" onclick=\"convertToInteractive('df-7dc56d0a-621e-4273-94a5-9c18d0b3a335')\"\n",
              "            title=\"Convert this dataframe to an interactive table.\"\n",
              "            style=\"display:none;\">\n",
              "\n",
              "  <svg xmlns=\"http://www.w3.org/2000/svg\" height=\"24px\" viewBox=\"0 -960 960 960\">\n",
              "    <path d=\"M120-120v-720h720v720H120Zm60-500h600v-160H180v160Zm220 220h160v-160H400v160Zm0 220h160v-160H400v160ZM180-400h160v-160H180v160Zm440 0h160v-160H620v160ZM180-180h160v-160H180v160Zm440 0h160v-160H620v160Z\"/>\n",
              "  </svg>\n",
              "    </button>\n",
              "\n",
              "  <style>\n",
              "    .colab-df-container {\n",
              "      display:flex;\n",
              "      gap: 12px;\n",
              "    }\n",
              "\n",
              "    .colab-df-convert {\n",
              "      background-color: #E8F0FE;\n",
              "      border: none;\n",
              "      border-radius: 50%;\n",
              "      cursor: pointer;\n",
              "      display: none;\n",
              "      fill: #1967D2;\n",
              "      height: 32px;\n",
              "      padding: 0 0 0 0;\n",
              "      width: 32px;\n",
              "    }\n",
              "\n",
              "    .colab-df-convert:hover {\n",
              "      background-color: #E2EBFA;\n",
              "      box-shadow: 0px 1px 2px rgba(60, 64, 67, 0.3), 0px 1px 3px 1px rgba(60, 64, 67, 0.15);\n",
              "      fill: #174EA6;\n",
              "    }\n",
              "\n",
              "    .colab-df-buttons div {\n",
              "      margin-bottom: 4px;\n",
              "    }\n",
              "\n",
              "    [theme=dark] .colab-df-convert {\n",
              "      background-color: #3B4455;\n",
              "      fill: #D2E3FC;\n",
              "    }\n",
              "\n",
              "    [theme=dark] .colab-df-convert:hover {\n",
              "      background-color: #434B5C;\n",
              "      box-shadow: 0px 1px 3px 1px rgba(0, 0, 0, 0.15);\n",
              "      filter: drop-shadow(0px 1px 2px rgba(0, 0, 0, 0.3));\n",
              "      fill: #FFFFFF;\n",
              "    }\n",
              "  </style>\n",
              "\n",
              "    <script>\n",
              "      const buttonEl =\n",
              "        document.querySelector('#df-7dc56d0a-621e-4273-94a5-9c18d0b3a335 button.colab-df-convert');\n",
              "      buttonEl.style.display =\n",
              "        google.colab.kernel.accessAllowed ? 'block' : 'none';\n",
              "\n",
              "      async function convertToInteractive(key) {\n",
              "        const element = document.querySelector('#df-7dc56d0a-621e-4273-94a5-9c18d0b3a335');\n",
              "        const dataTable =\n",
              "          await google.colab.kernel.invokeFunction('convertToInteractive',\n",
              "                                                    [key], {});\n",
              "        if (!dataTable) return;\n",
              "\n",
              "        const docLinkHtml = 'Like what you see? Visit the ' +\n",
              "          '<a target=\"_blank\" href=https://colab.research.google.com/notebooks/data_table.ipynb>data table notebook</a>'\n",
              "          + ' to learn more about interactive tables.';\n",
              "        element.innerHTML = '';\n",
              "        dataTable['output_type'] = 'display_data';\n",
              "        await google.colab.output.renderOutput(dataTable, element);\n",
              "        const docLink = document.createElement('div');\n",
              "        docLink.innerHTML = docLinkHtml;\n",
              "        element.appendChild(docLink);\n",
              "      }\n",
              "    </script>\n",
              "  </div>\n",
              "\n",
              "\n",
              "<div id=\"df-39771d99-813b-4ef7-a756-a07bf08449bc\">\n",
              "  <button class=\"colab-df-quickchart\" onclick=\"quickchart('df-39771d99-813b-4ef7-a756-a07bf08449bc')\"\n",
              "            title=\"Suggest charts\"\n",
              "            style=\"display:none;\">\n",
              "\n",
              "<svg xmlns=\"http://www.w3.org/2000/svg\" height=\"24px\"viewBox=\"0 0 24 24\"\n",
              "     width=\"24px\">\n",
              "    <g>\n",
              "        <path d=\"M19 3H5c-1.1 0-2 .9-2 2v14c0 1.1.9 2 2 2h14c1.1 0 2-.9 2-2V5c0-1.1-.9-2-2-2zM9 17H7v-7h2v7zm4 0h-2V7h2v10zm4 0h-2v-4h2v4z\"/>\n",
              "    </g>\n",
              "</svg>\n",
              "  </button>\n",
              "\n",
              "<style>\n",
              "  .colab-df-quickchart {\n",
              "      --bg-color: #E8F0FE;\n",
              "      --fill-color: #1967D2;\n",
              "      --hover-bg-color: #E2EBFA;\n",
              "      --hover-fill-color: #174EA6;\n",
              "      --disabled-fill-color: #AAA;\n",
              "      --disabled-bg-color: #DDD;\n",
              "  }\n",
              "\n",
              "  [theme=dark] .colab-df-quickchart {\n",
              "      --bg-color: #3B4455;\n",
              "      --fill-color: #D2E3FC;\n",
              "      --hover-bg-color: #434B5C;\n",
              "      --hover-fill-color: #FFFFFF;\n",
              "      --disabled-bg-color: #3B4455;\n",
              "      --disabled-fill-color: #666;\n",
              "  }\n",
              "\n",
              "  .colab-df-quickchart {\n",
              "    background-color: var(--bg-color);\n",
              "    border: none;\n",
              "    border-radius: 50%;\n",
              "    cursor: pointer;\n",
              "    display: none;\n",
              "    fill: var(--fill-color);\n",
              "    height: 32px;\n",
              "    padding: 0;\n",
              "    width: 32px;\n",
              "  }\n",
              "\n",
              "  .colab-df-quickchart:hover {\n",
              "    background-color: var(--hover-bg-color);\n",
              "    box-shadow: 0 1px 2px rgba(60, 64, 67, 0.3), 0 1px 3px 1px rgba(60, 64, 67, 0.15);\n",
              "    fill: var(--button-hover-fill-color);\n",
              "  }\n",
              "\n",
              "  .colab-df-quickchart-complete:disabled,\n",
              "  .colab-df-quickchart-complete:disabled:hover {\n",
              "    background-color: var(--disabled-bg-color);\n",
              "    fill: var(--disabled-fill-color);\n",
              "    box-shadow: none;\n",
              "  }\n",
              "\n",
              "  .colab-df-spinner {\n",
              "    border: 2px solid var(--fill-color);\n",
              "    border-color: transparent;\n",
              "    border-bottom-color: var(--fill-color);\n",
              "    animation:\n",
              "      spin 1s steps(1) infinite;\n",
              "  }\n",
              "\n",
              "  @keyframes spin {\n",
              "    0% {\n",
              "      border-color: transparent;\n",
              "      border-bottom-color: var(--fill-color);\n",
              "      border-left-color: var(--fill-color);\n",
              "    }\n",
              "    20% {\n",
              "      border-color: transparent;\n",
              "      border-left-color: var(--fill-color);\n",
              "      border-top-color: var(--fill-color);\n",
              "    }\n",
              "    30% {\n",
              "      border-color: transparent;\n",
              "      border-left-color: var(--fill-color);\n",
              "      border-top-color: var(--fill-color);\n",
              "      border-right-color: var(--fill-color);\n",
              "    }\n",
              "    40% {\n",
              "      border-color: transparent;\n",
              "      border-right-color: var(--fill-color);\n",
              "      border-top-color: var(--fill-color);\n",
              "    }\n",
              "    60% {\n",
              "      border-color: transparent;\n",
              "      border-right-color: var(--fill-color);\n",
              "    }\n",
              "    80% {\n",
              "      border-color: transparent;\n",
              "      border-right-color: var(--fill-color);\n",
              "      border-bottom-color: var(--fill-color);\n",
              "    }\n",
              "    90% {\n",
              "      border-color: transparent;\n",
              "      border-bottom-color: var(--fill-color);\n",
              "    }\n",
              "  }\n",
              "</style>\n",
              "\n",
              "  <script>\n",
              "    async function quickchart(key) {\n",
              "      const quickchartButtonEl =\n",
              "        document.querySelector('#' + key + ' button');\n",
              "      quickchartButtonEl.disabled = true;  // To prevent multiple clicks.\n",
              "      quickchartButtonEl.classList.add('colab-df-spinner');\n",
              "      try {\n",
              "        const charts = await google.colab.kernel.invokeFunction(\n",
              "            'suggestCharts', [key], {});\n",
              "      } catch (error) {\n",
              "        console.error('Error during call to suggestCharts:', error);\n",
              "      }\n",
              "      quickchartButtonEl.classList.remove('colab-df-spinner');\n",
              "      quickchartButtonEl.classList.add('colab-df-quickchart-complete');\n",
              "    }\n",
              "    (() => {\n",
              "      let quickchartButtonEl =\n",
              "        document.querySelector('#df-39771d99-813b-4ef7-a756-a07bf08449bc button');\n",
              "      quickchartButtonEl.style.display =\n",
              "        google.colab.kernel.accessAllowed ? 'block' : 'none';\n",
              "    })();\n",
              "  </script>\n",
              "</div>\n",
              "\n",
              "  <div id=\"id_b20b7c11-4b7c-4c3a-8934-27b8b6dcb4f5\">\n",
              "    <style>\n",
              "      .colab-df-generate {\n",
              "        background-color: #E8F0FE;\n",
              "        border: none;\n",
              "        border-radius: 50%;\n",
              "        cursor: pointer;\n",
              "        display: none;\n",
              "        fill: #1967D2;\n",
              "        height: 32px;\n",
              "        padding: 0 0 0 0;\n",
              "        width: 32px;\n",
              "      }\n",
              "\n",
              "      .colab-df-generate:hover {\n",
              "        background-color: #E2EBFA;\n",
              "        box-shadow: 0px 1px 2px rgba(60, 64, 67, 0.3), 0px 1px 3px 1px rgba(60, 64, 67, 0.15);\n",
              "        fill: #174EA6;\n",
              "      }\n",
              "\n",
              "      [theme=dark] .colab-df-generate {\n",
              "        background-color: #3B4455;\n",
              "        fill: #D2E3FC;\n",
              "      }\n",
              "\n",
              "      [theme=dark] .colab-df-generate:hover {\n",
              "        background-color: #434B5C;\n",
              "        box-shadow: 0px 1px 3px 1px rgba(0, 0, 0, 0.15);\n",
              "        filter: drop-shadow(0px 1px 2px rgba(0, 0, 0, 0.3));\n",
              "        fill: #FFFFFF;\n",
              "      }\n",
              "    </style>\n",
              "    <button class=\"colab-df-generate\" onclick=\"generateWithVariable('tukey_results_df')\"\n",
              "            title=\"Generate code using this dataframe.\"\n",
              "            style=\"display:none;\">\n",
              "\n",
              "  <svg xmlns=\"http://www.w3.org/2000/svg\" height=\"24px\"viewBox=\"0 0 24 24\"\n",
              "       width=\"24px\">\n",
              "    <path d=\"M7,19H8.4L18.45,9,17,7.55,7,17.6ZM5,21V16.75L18.45,3.32a2,2,0,0,1,2.83,0l1.4,1.43a1.91,1.91,0,0,1,.58,1.4,1.91,1.91,0,0,1-.58,1.4L9.25,21ZM18.45,9,17,7.55Zm-12,3A5.31,5.31,0,0,0,4.9,8.1,5.31,5.31,0,0,0,1,6.5,5.31,5.31,0,0,0,4.9,4.9,5.31,5.31,0,0,0,6.5,1,5.31,5.31,0,0,0,8.1,4.9,5.31,5.31,0,0,0,12,6.5,5.46,5.46,0,0,0,6.5,12Z\"/>\n",
              "  </svg>\n",
              "    </button>\n",
              "    <script>\n",
              "      (() => {\n",
              "      const buttonEl =\n",
              "        document.querySelector('#id_b20b7c11-4b7c-4c3a-8934-27b8b6dcb4f5 button.colab-df-generate');\n",
              "      buttonEl.style.display =\n",
              "        google.colab.kernel.accessAllowed ? 'block' : 'none';\n",
              "\n",
              "      buttonEl.onclick = () => {\n",
              "        google.colab.notebook.generateWithVariable('tukey_results_df');\n",
              "      }\n",
              "      })();\n",
              "    </script>\n",
              "  </div>\n",
              "\n",
              "    </div>\n",
              "  </div>\n"
            ],
            "application/vnd.google.colaboratory.intrinsic+json": {
              "type": "dataframe",
              "variable_name": "tukey_results_df",
              "summary": "{\n  \"name\": \"tukey_results_df\",\n  \"rows\": 3,\n  \"fields\": [\n    {\n      \"column\": \"group1\",\n      \"properties\": {\n        \"dtype\": \"string\",\n        \"num_unique_values\": 2,\n        \"samples\": [\n          \"only_breast\",\n          \"both\"\n        ],\n        \"semantic_type\": \"\",\n        \"description\": \"\"\n      }\n    },\n    {\n      \"column\": \"group2\",\n      \"properties\": {\n        \"dtype\": \"string\",\n        \"num_unique_values\": 2,\n        \"samples\": [\n          \"only_formula\",\n          \"only_breast\"\n        ],\n        \"semantic_type\": \"\",\n        \"description\": \"\"\n      }\n    },\n    {\n      \"column\": \"meandiff\",\n      \"properties\": {\n        \"dtype\": \"number\",\n        \"std\": 141.48148849545655,\n        \"min\": -60.1286,\n        \"max\": 209.3923,\n        \"num_unique_values\": 3,\n        \"samples\": [\n          -60.1286,\n          149.2636\n        ],\n        \"semantic_type\": \"\",\n        \"description\": \"\"\n      }\n    },\n    {\n      \"column\": \"p-adj\",\n      \"properties\": {\n        \"dtype\": \"number\",\n        \"std\": 0.057446351784367765,\n        \"min\": 0.0,\n        \"max\": 0.0995,\n        \"num_unique_values\": 2,\n        \"samples\": [\n          0.0,\n          0.0995\n        ],\n        \"semantic_type\": \"\",\n        \"description\": \"\"\n      }\n    },\n    {\n      \"column\": \"lower\",\n      \"properties\": {\n        \"dtype\": \"number\",\n        \"std\": 140.70258650189533,\n        \"min\": -129.1485,\n        \"max\": 137.3508,\n        \"num_unique_values\": 3,\n        \"samples\": [\n          -129.1485,\n          82.3651\n        ],\n        \"semantic_type\": \"\",\n        \"description\": \"\"\n      }\n    },\n    {\n      \"column\": \"upper\",\n      \"properties\": {\n        \"dtype\": \"number\",\n        \"std\": 142.3030932315598,\n        \"min\": 8.8912,\n        \"max\": 281.4337,\n        \"num_unique_values\": 3,\n        \"samples\": [\n          8.8912,\n          216.1621\n        ],\n        \"semantic_type\": \"\",\n        \"description\": \"\"\n      }\n    },\n    {\n      \"column\": \"reject\",\n      \"properties\": {\n        \"dtype\": \"boolean\",\n        \"num_unique_values\": 2,\n        \"samples\": [\n          true,\n          false\n        ],\n        \"semantic_type\": \"\",\n        \"description\": \"\"\n      }\n    }\n  ]\n}"
            }
          },
          "metadata": {},
          "execution_count": 26
        }
      ]
    },
    {
      "cell_type": "code",
      "source": [
        "import pandas as pd\n",
        "import seaborn as sns\n",
        "df = pd.DataFrame({'Weight Gain': data, 'Group': groups})\n",
        "plt.figure(figsize=(10, 6))\n",
        "sns.boxplot(x='Group', y='Weight Gain', data=df, showmeans=True, meanline=True)\n",
        "plt.title('Boxplot of Monthly Weight Gain by Feeding Group')\n",
        "plt.xlabel('Feeding Group')\n",
        "plt.ylabel('Monthly Weight Gain (g)')\n",
        "plt.grid(axis='y', linestyle='--', alpha=0.7)\n",
        "plt.show()"
      ],
      "metadata": {
        "colab": {
          "base_uri": "https://localhost:8080/",
          "height": 564
        },
        "id": "tdFNAtR7IQkX",
        "outputId": "ad2cb9ec-db11-4669-fc1f-7076b983f998"
      },
      "execution_count": null,
      "outputs": [
        {
          "output_type": "display_data",
          "data": {
            "text/plain": [
              "<Figure size 1000x600 with 1 Axes>"
            ],
            "image/png": "[encoded data removed]"
          },
          "metadata": {}
        }
      ]
    },
    {
      "cell_type": "markdown",
      "source": [
        "It is evident that weight gain with formula feeding is higher than with other types of feeding."
      ],
      "metadata": {
        "id": "3zGZp_MdfW3w"
      }
    },
    {
      "cell_type": "markdown",
      "source": [
        "# Task5:\n",
        "A financial investment company analyst is interested in the relationship between gender and risk tolerance. A random sample of 660 clients was taken from the database. The clients in the sample were classified according to their gender and risk tolerance. The results are shown in the following table.\n",
        "\n",
        "Test the hypothesis that clients' risk tolerance in this company is independent of their gender. Use α = 0.01."
      ],
      "metadata": {
        "id": "AEBlk1fwfYVe"
      }
    },
    {
      "cell_type": "code",
      "source": [
        "import pandas as pd"
      ],
      "metadata": {
        "id": "N150jwmcgF8v"
      },
      "execution_count": null,
      "outputs": []
    },
    {
      "cell_type": "code",
      "source": [
        "contingency_table = pd.DataFrame(\n",
        "    [\n",
        "        [53, 23, 30, 36, 88],\n",
        "        [71, 48, 51, 57, 203]\n",
        "    ],\n",
        "    #columns = ['Machine Learning', 'Data Science', 'Analytics'],\n",
        "    index = ['W', 'M'])\n",
        "\n",
        "print('Risk level')\n",
        "print(contingency_table)"
      ],
      "metadata": {
        "colab": {
          "base_uri": "https://localhost:8080/"
        },
        "id": "rTY-dKKEf6vC",
        "outputId": "263454fc-a5df-4703-91bc-6714a481188d"
      },
      "execution_count": null,
      "outputs": [
        {
          "output_type": "stream",
          "name": "stdout",
          "text": [
            "Risk level\n",
            "    0   1   2   3    4\n",
            "W  53  23  30  36   88\n",
            "M  71  48  51  57  203\n"
          ]
        }
      ]
    },
    {
      "cell_type": "code",
      "source": [
        "from scipy.stats import chi2_contingency"
      ],
      "metadata": {
        "id": "sSNYhQ0IgPj0"
      },
      "execution_count": null,
      "outputs": []
    },
    {
      "cell_type": "code",
      "source": [
        "chi2, p_value, dof, expected = chi2_contingency(contingency_table)\n",
        "chi2, p_value, dof, expected"
      ],
      "metadata": {
        "colab": {
          "base_uri": "https://localhost:8080/"
        },
        "id": "E-DpAVGNQx_Y",
        "outputId": "6f148401-90d9-4cfa-eb4f-9b8bebae173b"
      },
      "execution_count": null,
      "outputs": [
        {
          "output_type": "execute_result",
          "data": {
            "text/plain": [
              "(7.094218206100441,\n",
              " 0.13099220858734012,\n",
              " 4,\n",
              " array([[ 43.21212121,  24.74242424,  28.22727273,  32.40909091,\n",
              "         101.40909091],\n",
              "        [ 80.78787879,  46.25757576,  52.77272727,  60.59090909,\n",
              "         189.59090909]]))"
            ]
          },
          "metadata": {},
          "execution_count": 4
        }
      ]
    },
    {
      "cell_type": "markdown",
      "source": [
        "At a significance level of α = 0.01, the p-value (0.131) is greater than α. This means that we have no basis to reject the null hypothesis. Risk propensity does not depend on the gender of the company's clients."
      ],
      "metadata": {
        "id": "RriGZs-bRF3y"
      }
    },
    {
      "cell_type": "markdown",
      "source": [
        "# Task6:\n",
        "An e-commerce company regularly advertises its campaigns on YouTube, Instagram, and Facebook. However, the new manager was curious to find out whether there is a difference in the number of customers attracted by these platforms. Therefore, she started using Adjust, an application that allows you to track where your users come from. The daily figures reported by Adjust for each platform are provided below.\n",
        "\n",
        "Based on this information, conduct a hypothesis test to determine if there is a difference in the average number of customers attracted by these three platforms using a significance level of 0.05. If there is a significant difference, perform further analysis to identify the cause of the difference. Before proceeding with the hypothesis test, check the relevant assumptions."
      ],
      "metadata": {
        "id": "azCzHOBSRV62"
      }
    },
    {
      "cell_type": "code",
      "source": [
        "youtube=[1913, 1879, 1939, 2146, 2040, 2127, 2122, 2156, 2036, 1974, 1956, 2146, 2151, 1943, 2125]\n",
        "instagram = [2305., 2355., 2203., 2231., 2185., 2420., 2386., 2410., 2340., 2349., 2241., 2396., 2244., 2267., 2281.]\n",
        "facebook = [2133., 2522., 2124., 2551., 2293., 2367., 2460., 2311., 2178., 2113., 2048., 2443., 2265., 2095., 2528.]"
      ],
      "metadata": {
        "id": "eqgfA0b2RtML"
      },
      "execution_count": null,
      "outputs": []
    },
    {
      "cell_type": "code",
      "source": [
        "from scipy.stats import kruskal\n",
        "kruskal_test = kruskal(youtube, instagram, facebook)\n",
        "kruskal_test"
      ],
      "metadata": {
        "colab": {
          "base_uri": "https://localhost:8080/"
        },
        "id": "tcpnysZ0SRZ2",
        "outputId": "c7f68f83-43d6-4f06-c088-b6a6aaa977c5"
      },
      "execution_count": null,
      "outputs": [
        {
          "output_type": "execute_result",
          "data": {
            "text/plain": [
              "KruskalResult(statistic=22.193539319674137, pvalue=1.5161220700704243e-05)"
            ]
          },
          "metadata": {},
          "execution_count": 6
        }
      ]
    },
    {
      "cell_type": "markdown",
      "source": [
        "Since the p-value is significantly less than the significance level of 0.05, we reject the null hypothesis. This indicates that there are statistically significant differences between the platforms in the average number of customers attracted."
      ],
      "metadata": {
        "id": "QrxDZ_L5SV9A"
      }
    },
    {
      "cell_type": "code",
      "source": [
        "from scipy.stats import mannwhitneyu\n",
        "result_facebook_instagram = mannwhitneyu(facebook, instagram, alternative='two-sided')\n",
        "result_facebook_youtube = mannwhitneyu(facebook, youtube, alternative='two-sided')\n",
        "result_instagram_youtube = mannwhitneyu(instagram, youtube, alternative='two-sided')\n",
        "\n",
        "print(\"Facebook vs Instagram:\", result_facebook_instagram)\n",
        "print(\"Facebook vs YouTube:\", result_facebook_youtube)\n",
        "print(\"Instagram vs YouTube:\", result_instagram_youtube)"
      ],
      "metadata": {
        "colab": {
          "base_uri": "https://localhost:8080/"
        },
        "id": "0NSDa_ZxSjO_",
        "outputId": "debe3eba-a037-48b9-ab48-6cc53e6e4dc6"
      },
      "execution_count": null,
      "outputs": [
        {
          "output_type": "stream",
          "name": "stdout",
          "text": [
            "Facebook vs Instagram: MannwhitneyuResult(statistic=106.0, pvalue=0.8034625743147712)\n",
            "Facebook vs YouTube: MannwhitneyuResult(statistic=194.0, pvalue=0.0007791503482085242)\n",
            "Instagram vs YouTube: MannwhitneyuResult(statistic=225.0, pvalue=3.3833394126542183e-06)\n"
          ]
        }
      ]
    },
    {
      "cell_type": "markdown",
      "source": [
        "Facebook vs YouTube p < 0.05 means the difference is considered statistically significant."
      ],
      "metadata": {
        "id": "BvxPir6VTg7a"
      }
    }
  ]
}